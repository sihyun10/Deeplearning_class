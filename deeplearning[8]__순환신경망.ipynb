{
  "nbformat": 4,
  "nbformat_minor": 0,
  "metadata": {
    "colab": {
      "provenance": [],
      "authorship_tag": "ABX9TyN6QOk8ycKlzh+6TE0aWmXu",
      "include_colab_link": true
    },
    "kernelspec": {
      "name": "python3",
      "display_name": "Python 3"
    },
    "language_info": {
      "name": "python"
    }
  },
  "cells": [
    {
      "cell_type": "markdown",
      "metadata": {
        "id": "view-in-github",
        "colab_type": "text"
      },
      "source": [
        "<a href=\"https://colab.research.google.com/github/sihyun10/Deeplearning_class/blob/main/deeplearning%5B8%5D__%EC%88%9C%ED%99%98%EC%8B%A0%EA%B2%BD%EB%A7%9D.ipynb\" target=\"_parent\"><img src=\"https://colab.research.google.com/assets/colab-badge.svg\" alt=\"Open In Colab\"/></a>"
      ]
    },
    {
      "cell_type": "code",
      "execution_count": 4,
      "metadata": {
        "colab": {
          "base_uri": "https://localhost:8080/"
        },
        "id": "orrqLfmx-Jn8",
        "outputId": "db11c169-6552-4396-819c-ed678c8622ce"
      },
      "outputs": [
        {
          "output_type": "stream",
          "name": "stdout",
          "text": [
            "Looking in indexes: https://pypi.org/simple, https://us-python.pkg.dev/colab-wheels/public/simple/\n",
            "Requirement already satisfied: BeautifulSoup4 in /usr/local/lib/python3.8/dist-packages (4.6.3)\n"
          ]
        }
      ],
      "source": [
        "#순환 데이터의 예시\n",
        "#데이터를 다운로드하고 그래프로 그려보자\n",
        "\n",
        "#BeautifulSoup4와 finance-datareader 설치하기\n",
        "!pip install BeautifulSoup4"
      ]
    },
    {
      "cell_type": "code",
      "source": [
        "!pip install finance-datareader"
      ],
      "metadata": {
        "colab": {
          "base_uri": "https://localhost:8080/"
        },
        "id": "WWMINseY-Yk-",
        "outputId": "4f301b5b-ed56-462e-e7b5-c698057cc599"
      },
      "execution_count": 5,
      "outputs": [
        {
          "output_type": "stream",
          "name": "stdout",
          "text": [
            "Looking in indexes: https://pypi.org/simple, https://us-python.pkg.dev/colab-wheels/public/simple/\n",
            "Collecting finance-datareader\n",
            "  Downloading finance_datareader-0.9.50-py3-none-any.whl (19 kB)\n",
            "Requirement already satisfied: pandas>=0.19.2 in /usr/local/lib/python3.8/dist-packages (from finance-datareader) (1.3.5)\n",
            "Requirement already satisfied: tqdm in /usr/local/lib/python3.8/dist-packages (from finance-datareader) (4.64.1)\n",
            "Requirement already satisfied: requests>=2.3.0 in /usr/local/lib/python3.8/dist-packages (from finance-datareader) (2.23.0)\n",
            "Requirement already satisfied: lxml in /usr/local/lib/python3.8/dist-packages (from finance-datareader) (4.9.1)\n",
            "Collecting requests-file\n",
            "  Downloading requests_file-1.5.1-py2.py3-none-any.whl (3.7 kB)\n",
            "Requirement already satisfied: numpy>=1.17.3 in /usr/local/lib/python3.8/dist-packages (from pandas>=0.19.2->finance-datareader) (1.21.6)\n",
            "Requirement already satisfied: pytz>=2017.3 in /usr/local/lib/python3.8/dist-packages (from pandas>=0.19.2->finance-datareader) (2022.6)\n",
            "Requirement already satisfied: python-dateutil>=2.7.3 in /usr/local/lib/python3.8/dist-packages (from pandas>=0.19.2->finance-datareader) (2.8.2)\n",
            "Requirement already satisfied: six>=1.5 in /usr/local/lib/python3.8/dist-packages (from python-dateutil>=2.7.3->pandas>=0.19.2->finance-datareader) (1.15.0)\n",
            "Requirement already satisfied: certifi>=2017.4.17 in /usr/local/lib/python3.8/dist-packages (from requests>=2.3.0->finance-datareader) (2022.9.24)\n",
            "Requirement already satisfied: chardet<4,>=3.0.2 in /usr/local/lib/python3.8/dist-packages (from requests>=2.3.0->finance-datareader) (3.0.4)\n",
            "Requirement already satisfied: urllib3!=1.25.0,!=1.25.1,<1.26,>=1.21.1 in /usr/local/lib/python3.8/dist-packages (from requests>=2.3.0->finance-datareader) (1.24.3)\n",
            "Requirement already satisfied: idna<3,>=2.5 in /usr/local/lib/python3.8/dist-packages (from requests>=2.3.0->finance-datareader) (2.10)\n",
            "Installing collected packages: requests-file, finance-datareader\n",
            "Successfully installed finance-datareader-0.9.50 requests-file-1.5.1\n"
          ]
        }
      ]
    },
    {
      "cell_type": "code",
      "source": [
        "#라이브러리 포함\n",
        "import FinanceDataReader as fdr\n",
        "import numpy as np\n",
        "import matplotlib.pyplot as plt"
      ],
      "metadata": {
        "id": "RKlpyhAF-3JZ"
      },
      "execution_count": 6,
      "outputs": []
    },
    {
      "cell_type": "code",
      "source": [
        "#삼성전자 코드 = '005930', 2020년 데이터부터 다운로드\n",
        "samsung = fdr.DataReader('005930','2020')"
      ],
      "metadata": {
        "id": "MqlOPeU-_Hhy"
      },
      "execution_count": 7,
      "outputs": []
    },
    {
      "cell_type": "code",
      "source": [
        "#시작가만 취함\n",
        "seq_data = (samsung[['Open']]).to_numpy()"
      ],
      "metadata": {
        "id": "sBF1b7Ap_QlL"
      },
      "execution_count": 8,
      "outputs": []
    },
    {
      "cell_type": "code",
      "source": [
        "#선형 그래프 그려보기\n",
        "plt.plot(seq_data,color='blue')\n",
        "plt.title(\"Samsung Electronics Stock Price\")\n",
        "plt.xlabel(\"Days\")\n",
        "plt.xlabel(\"\")\n",
        "plt.show()"
      ],
      "metadata": {
        "colab": {
          "base_uri": "https://localhost:8080/",
          "height": 281
        },
        "id": "6AINt-Lz_b2H",
        "outputId": "a91ebfc7-912f-4fbd-8508-bb2f0bf79c2b"
      },
      "execution_count": 9,
      "outputs": [
        {
          "output_type": "display_data",
          "data": {
            "text/plain": [
              "<Figure size 432x288 with 1 Axes>"
            ],
            "image/png": "[encoded data removed]"
          },
          "metadata": {
            "needs_background": "light"
          }
        }
      ]
    },
    {
      "cell_type": "code",
      "source": [
        "#데이터를 잘라서 샘플을 작성해보자!\n",
        "seq_data = (samsung[['Open']]).to_numpy()"
      ],
      "metadata": {
        "id": "RSyO7D3G_qSf"
      },
      "execution_count": 10,
      "outputs": []
    },
    {
      "cell_type": "code",
      "source": [
        "def make_sample(data,window):\n",
        "  train=[]  #공백 리스트 생성\n",
        "  target=[]\n",
        "  for i in range(len(data) - window):  #데이터 길이만큼 반복\n",
        "    train.append(data[i: i + window]) #i부터 (i+window-1)까지 저장\n",
        "    target.append(data[i+window]) #(i+window)번째 요소는 정답\n",
        "  return np.array(train), np.array(target) #훈련 샘플과 정답 라벨을 변환"
      ],
      "metadata": {
        "id": "kj3IaBfy_8k9"
      },
      "execution_count": 11,
      "outputs": []
    },
    {
      "cell_type": "code",
      "source": [
        "X,y = make_sample(seq_data,7) #윈도우 크기 : 7\n",
        "print(X.shape,y.shape) #Numpy 배열의 형상 출력\n",
        "print(X[0],y[0]) #첫 번째 샘플 출력"
      ],
      "metadata": {
        "colab": {
          "base_uri": "https://localhost:8080/"
        },
        "id": "4hgTUUsuAYl9",
        "outputId": "bf0ab175-d01b-4423-f480-8553ab188490"
      },
      "execution_count": 12,
      "outputs": [
        {
          "output_type": "stream",
          "name": "stdout",
          "text": [
            "(716, 7, 1) (716, 1)\n",
            "[[55500]\n",
            " [56000]\n",
            " [54900]\n",
            " [55700]\n",
            " [56200]\n",
            " [58400]\n",
            " [58800]] [59600]\n"
          ]
        }
      ]
    },
    {
      "cell_type": "code",
      "source": [
        "#순환 신경망의 예시\n",
        "#사인파(Sine Wave) 예측 프로그램을 구성해보자!\n",
        "\n",
        "import numpy as np\n",
        "from tensorflow.keras.models import Sequential\n",
        "from tensorflow.keras.layers import SimpleRNN\n",
        "from tensorflow.keras.layers import Dense\n",
        "import matplotlib.pyplot as plt"
      ],
      "metadata": {
        "id": "k6BQhieGAqae"
      },
      "execution_count": 1,
      "outputs": []
    },
    {
      "cell_type": "code",
      "source": [
        "def make_sample(data,window):\n",
        "  train = []   #공백 리스트 생성\n",
        "  target = []\n",
        "  for i in range(len(data)-window):   #데이터의 길이만큼 반복\n",
        "    train.append(data[i:i+window])   #i부터 (i+window-1)까지를 저장\n",
        "    target.append(data[i+window])  #(i+window)번째 요소는 정답\n",
        "  return np.array(train),np.array(target)  #Python 리스트를 Numpy로 변환"
      ],
      "metadata": {
        "id": "5o7vEKXQCh5Q"
      },
      "execution_count": 2,
      "outputs": []
    },
    {
      "cell_type": "code",
      "source": [
        "seq_data = []\n",
        "for i in np.arange(0,1000):\n",
        "  seq_data += [[np.sin(np.pi*i*0.01)]]\n",
        "X,y = make_sample(seq_data,10)  #윈도우 크기 : 10"
      ],
      "metadata": {
        "id": "zOiEXOoeDCr2"
      },
      "execution_count": 3,
      "outputs": []
    },
    {
      "cell_type": "code",
      "source": [
        "model = Sequential()\n",
        "model.add(SimpleRNN(10,activation = 'tanh',input_shape=(10,1)))\n",
        "model.add(Dense(1,activation='tanh'))\n",
        "model.compile(optimizer='adam',loss='mse')"
      ],
      "metadata": {
        "id": "GHpKktzjDSBr"
      },
      "execution_count": 4,
      "outputs": []
    },
    {
      "cell_type": "code",
      "source": [
        "history=model.fit(X,y,epochs=100,verbose=1)\n",
        "plt.plot(history.history['loss'],label='loss')\n",
        "plt.show()"
      ],
      "metadata": {
        "colab": {
          "base_uri": "https://localhost:8080/",
          "height": 1000
        },
        "id": "Qv7YnWp2Dmmd",
        "outputId": "e8ac52cd-418f-4719-f3ed-d6c46d46c6f0"
      },
      "execution_count": 5,
      "outputs": [
        {
          "output_type": "stream",
          "name": "stdout",
          "text": [
            "Epoch 1/100\n",
            "31/31 [==============================] - 1s 4ms/step - loss: 0.0142\n",
            "Epoch 2/100\n",
            "31/31 [==============================] - 0s 3ms/step - loss: 0.0096\n",
            "Epoch 3/100\n",
            "31/31 [==============================] - 0s 4ms/step - loss: 0.0071\n",
            "Epoch 4/100\n",
            "31/31 [==============================] - 0s 3ms/step - loss: 0.0054\n",
            "Epoch 5/100\n",
            "31/31 [==============================] - 0s 4ms/step - loss: 0.0042\n",
            "Epoch 6/100\n",
            "31/31 [==============================] - 0s 4ms/step - loss: 0.0034\n",
            "Epoch 7/100\n",
            "31/31 [==============================] - 0s 3ms/step - loss: 0.0029\n",
            "Epoch 8/100\n",
            "31/31 [==============================] - 0s 4ms/step - loss: 0.0026\n",
            "Epoch 9/100\n",
            "31/31 [==============================] - 0s 4ms/step - loss: 0.0023\n",
            "Epoch 10/100\n",
            "31/31 [==============================] - 0s 3ms/step - loss: 0.0021\n",
            "Epoch 11/100\n",
            "31/31 [==============================] - 0s 3ms/step - loss: 0.0020\n",
            "Epoch 12/100\n",
            "31/31 [==============================] - 0s 3ms/step - loss: 0.0018\n",
            "Epoch 13/100\n",
            "31/31 [==============================] - 0s 3ms/step - loss: 0.0017\n",
            "Epoch 14/100\n",
            "31/31 [==============================] - 0s 4ms/step - loss: 0.0016\n",
            "Epoch 15/100\n",
            "31/31 [==============================] - 0s 3ms/step - loss: 0.0015\n",
            "Epoch 16/100\n",
            "31/31 [==============================] - 0s 3ms/step - loss: 0.0014\n",
            "Epoch 17/100\n",
            "31/31 [==============================] - 0s 4ms/step - loss: 0.0014\n",
            "Epoch 18/100\n",
            "31/31 [==============================] - 0s 3ms/step - loss: 0.0013\n",
            "Epoch 19/100\n",
            "31/31 [==============================] - 0s 3ms/step - loss: 0.0012\n",
            "Epoch 20/100\n",
            "31/31 [==============================] - 0s 3ms/step - loss: 0.0012\n",
            "Epoch 21/100\n",
            "31/31 [==============================] - 0s 3ms/step - loss: 0.0011\n",
            "Epoch 22/100\n",
            "31/31 [==============================] - 0s 3ms/step - loss: 0.0011\n",
            "Epoch 23/100\n",
            "31/31 [==============================] - 0s 4ms/step - loss: 0.0010\n",
            "Epoch 24/100\n",
            "31/31 [==============================] - 0s 3ms/step - loss: 9.8178e-04\n",
            "Epoch 25/100\n",
            "31/31 [==============================] - 0s 3ms/step - loss: 9.3588e-04\n",
            "Epoch 26/100\n",
            "31/31 [==============================] - 0s 4ms/step - loss: 9.1331e-04\n",
            "Epoch 27/100\n",
            "31/31 [==============================] - 0s 4ms/step - loss: 9.1591e-04\n",
            "Epoch 28/100\n",
            "31/31 [==============================] - 0s 3ms/step - loss: 9.0339e-04\n",
            "Epoch 29/100\n",
            "31/31 [==============================] - 0s 3ms/step - loss: 8.8739e-04\n",
            "Epoch 30/100\n",
            "31/31 [==============================] - 0s 3ms/step - loss: 8.3188e-04\n",
            "Epoch 31/100\n",
            "31/31 [==============================] - 0s 4ms/step - loss: 8.4804e-04\n",
            "Epoch 32/100\n",
            "31/31 [==============================] - 0s 3ms/step - loss: 8.2397e-04\n",
            "Epoch 33/100\n",
            "31/31 [==============================] - 0s 3ms/step - loss: 7.9523e-04\n",
            "Epoch 34/100\n",
            "31/31 [==============================] - 0s 3ms/step - loss: 8.1528e-04\n",
            "Epoch 35/100\n",
            "31/31 [==============================] - 0s 3ms/step - loss: 7.5323e-04\n",
            "Epoch 36/100\n",
            "31/31 [==============================] - 0s 4ms/step - loss: 7.7038e-04\n",
            "Epoch 37/100\n",
            "31/31 [==============================] - 0s 3ms/step - loss: 7.4233e-04\n",
            "Epoch 38/100\n",
            "31/31 [==============================] - 0s 3ms/step - loss: 7.2352e-04\n",
            "Epoch 39/100\n",
            "31/31 [==============================] - 0s 3ms/step - loss: 7.3389e-04\n",
            "Epoch 40/100\n",
            "31/31 [==============================] - 0s 4ms/step - loss: 7.1285e-04\n",
            "Epoch 41/100\n",
            "31/31 [==============================] - 0s 3ms/step - loss: 7.0937e-04\n",
            "Epoch 42/100\n",
            "31/31 [==============================] - 0s 4ms/step - loss: 6.9533e-04\n",
            "Epoch 43/100\n",
            "31/31 [==============================] - 0s 4ms/step - loss: 6.9372e-04\n",
            "Epoch 44/100\n",
            "31/31 [==============================] - 0s 4ms/step - loss: 6.8812e-04\n",
            "Epoch 45/100\n",
            "31/31 [==============================] - 0s 4ms/step - loss: 7.0045e-04\n",
            "Epoch 46/100\n",
            "31/31 [==============================] - 0s 4ms/step - loss: 6.5258e-04\n",
            "Epoch 47/100\n",
            "31/31 [==============================] - 0s 4ms/step - loss: 6.4186e-04\n",
            "Epoch 48/100\n",
            "31/31 [==============================] - 0s 4ms/step - loss: 6.5807e-04\n",
            "Epoch 49/100\n",
            "31/31 [==============================] - 0s 3ms/step - loss: 6.2421e-04\n",
            "Epoch 50/100\n",
            "31/31 [==============================] - 0s 4ms/step - loss: 6.7349e-04\n",
            "Epoch 51/100\n",
            "31/31 [==============================] - 0s 4ms/step - loss: 6.2371e-04\n",
            "Epoch 52/100\n",
            "31/31 [==============================] - 0s 4ms/step - loss: 6.3831e-04\n",
            "Epoch 53/100\n",
            "31/31 [==============================] - 0s 3ms/step - loss: 6.1826e-04\n",
            "Epoch 54/100\n",
            "31/31 [==============================] - 0s 3ms/step - loss: 5.9287e-04\n",
            "Epoch 55/100\n",
            "31/31 [==============================] - 0s 3ms/step - loss: 6.0826e-04\n",
            "Epoch 56/100\n",
            "31/31 [==============================] - 0s 3ms/step - loss: 6.4472e-04\n",
            "Epoch 57/100\n",
            "31/31 [==============================] - 0s 3ms/step - loss: 5.9432e-04\n",
            "Epoch 58/100\n",
            "31/31 [==============================] - 0s 4ms/step - loss: 5.9515e-04\n",
            "Epoch 59/100\n",
            "31/31 [==============================] - 0s 3ms/step - loss: 5.5298e-04\n",
            "Epoch 60/100\n",
            "31/31 [==============================] - 0s 3ms/step - loss: 5.3658e-04\n",
            "Epoch 61/100\n",
            "31/31 [==============================] - 0s 4ms/step - loss: 5.6124e-04\n",
            "Epoch 62/100\n",
            "31/31 [==============================] - 0s 3ms/step - loss: 5.2119e-04\n",
            "Epoch 63/100\n",
            "31/31 [==============================] - 0s 3ms/step - loss: 5.1446e-04\n",
            "Epoch 64/100\n",
            "31/31 [==============================] - 0s 3ms/step - loss: 5.0911e-04\n",
            "Epoch 65/100\n",
            "31/31 [==============================] - 0s 3ms/step - loss: 5.0145e-04\n",
            "Epoch 66/100\n",
            "31/31 [==============================] - 0s 4ms/step - loss: 5.1536e-04\n",
            "Epoch 67/100\n",
            "31/31 [==============================] - 0s 4ms/step - loss: 5.2797e-04\n",
            "Epoch 68/100\n",
            "31/31 [==============================] - 0s 3ms/step - loss: 4.8326e-04\n",
            "Epoch 69/100\n",
            "31/31 [==============================] - 0s 3ms/step - loss: 5.2304e-04\n",
            "Epoch 70/100\n",
            "31/31 [==============================] - 0s 4ms/step - loss: 4.8905e-04\n",
            "Epoch 71/100\n",
            "31/31 [==============================] - 0s 3ms/step - loss: 4.5396e-04\n",
            "Epoch 72/100\n",
            "31/31 [==============================] - 0s 3ms/step - loss: 4.7082e-04\n",
            "Epoch 73/100\n",
            "31/31 [==============================] - 0s 3ms/step - loss: 4.6306e-04\n",
            "Epoch 74/100\n",
            "31/31 [==============================] - 0s 3ms/step - loss: 4.3484e-04\n",
            "Epoch 75/100\n",
            "31/31 [==============================] - 0s 3ms/step - loss: 4.3758e-04\n",
            "Epoch 76/100\n",
            "31/31 [==============================] - 0s 3ms/step - loss: 4.2929e-04\n",
            "Epoch 77/100\n",
            "31/31 [==============================] - 0s 4ms/step - loss: 4.2358e-04\n",
            "Epoch 78/100\n",
            "31/31 [==============================] - 0s 3ms/step - loss: 4.2447e-04\n",
            "Epoch 79/100\n",
            "31/31 [==============================] - 0s 4ms/step - loss: 4.4446e-04\n",
            "Epoch 80/100\n",
            "31/31 [==============================] - 0s 3ms/step - loss: 4.2307e-04\n",
            "Epoch 81/100\n",
            "31/31 [==============================] - 0s 3ms/step - loss: 3.9693e-04\n",
            "Epoch 82/100\n",
            "31/31 [==============================] - 0s 3ms/step - loss: 4.1087e-04\n",
            "Epoch 83/100\n",
            "31/31 [==============================] - 0s 3ms/step - loss: 4.0072e-04\n",
            "Epoch 84/100\n",
            "31/31 [==============================] - 0s 3ms/step - loss: 3.9770e-04\n",
            "Epoch 85/100\n",
            "31/31 [==============================] - 0s 4ms/step - loss: 3.9125e-04\n",
            "Epoch 86/100\n",
            "31/31 [==============================] - 0s 3ms/step - loss: 3.8707e-04\n",
            "Epoch 87/100\n",
            "31/31 [==============================] - 0s 3ms/step - loss: 4.1094e-04\n",
            "Epoch 88/100\n",
            "31/31 [==============================] - 0s 4ms/step - loss: 3.9138e-04\n",
            "Epoch 89/100\n",
            "31/31 [==============================] - 0s 3ms/step - loss: 3.9604e-04\n",
            "Epoch 90/100\n",
            "31/31 [==============================] - 0s 4ms/step - loss: 3.8477e-04\n",
            "Epoch 91/100\n",
            "31/31 [==============================] - 0s 3ms/step - loss: 3.6763e-04\n",
            "Epoch 92/100\n",
            "31/31 [==============================] - 0s 3ms/step - loss: 3.7268e-04\n",
            "Epoch 93/100\n",
            "31/31 [==============================] - 0s 4ms/step - loss: 4.2092e-04\n",
            "Epoch 94/100\n",
            "31/31 [==============================] - 0s 4ms/step - loss: 4.0210e-04\n",
            "Epoch 95/100\n",
            "31/31 [==============================] - 0s 3ms/step - loss: 3.8521e-04\n",
            "Epoch 96/100\n",
            "31/31 [==============================] - 0s 3ms/step - loss: 3.7452e-04\n",
            "Epoch 97/100\n",
            "31/31 [==============================] - 0s 4ms/step - loss: 3.8332e-04\n",
            "Epoch 98/100\n",
            "31/31 [==============================] - 0s 4ms/step - loss: 3.7289e-04\n",
            "Epoch 99/100\n",
            "31/31 [==============================] - 0s 4ms/step - loss: 3.5616e-04\n",
            "Epoch 100/100\n",
            "31/31 [==============================] - 0s 3ms/step - loss: 3.5055e-04\n"
          ]
        },
        {
          "output_type": "display_data",
          "data": {
            "text/plain": [
              "<Figure size 432x288 with 1 Axes>"
            ],
            "image/png": "[encoded data removed]"
          },
          "metadata": {
            "needs_background": "light"
          }
        }
      ]
    },
    {
      "cell_type": "code",
      "source": [
        "seq_data = []\n",
        "for i in np.arange(0,1000):  #테스트 샘플 생성\n",
        "  seq_data += [[np.cos(np.pi * i * 0.01)]]\n",
        "X,y = make_sample(seq_data, 10)  #윈도우 크기 : 10"
      ],
      "metadata": {
        "id": "0KN-C75oDyZs"
      },
      "execution_count": 6,
      "outputs": []
    },
    {
      "cell_type": "code",
      "source": [
        "y_pred = model.predict(X,verbose=0)  #테스트 예측값\n",
        "plt.plot(np.pi * np.arange(0,990)*0.01, y_pred)\n",
        "plt.plot(np.pi * np.arange(0,990)*0.01, y)\n",
        "plt.show()"
      ],
      "metadata": {
        "colab": {
          "base_uri": "https://localhost:8080/",
          "height": 265
        },
        "id": "fNFPeKUMEqsj",
        "outputId": "cf9995dd-5cfe-408e-edbb-024ef45044e1"
      },
      "execution_count": 7,
      "outputs": [
        {
          "output_type": "display_data",
          "data": {
            "text/plain": [
              "<Figure size 432x288 with 1 Axes>"
            ],
            "image/png": "[encoded data removed]"
          },
          "metadata": {
            "needs_background": "light"
          }
        }
      ]
    },
    {
      "cell_type": "code",
      "source": [
        "#Keras를 이용한 주가 예측\n",
        " #Keras에서 LSTM 모델 구성하기 (연습)\n",
        "\n",
        "import tensorflow as tf\n",
        "inputs = tf.random.normal([32,10,8])\n",
        "lstm = tf.keras.layers.LSTM(4)\n",
        "output=lstm(inputs)\n",
        "print(output.shape)\n",
        "print(output)"
      ],
      "metadata": {
        "colab": {
          "base_uri": "https://localhost:8080/"
        },
        "id": "fa16fBtyE36t",
        "outputId": "de86850b-1de1-4e98-fada-5d00b6e1bdff"
      },
      "execution_count": 8,
      "outputs": [
        {
          "output_type": "stream",
          "name": "stdout",
          "text": [
            "(32, 4)\n",
            "tf.Tensor(\n",
            "[[-0.04372483  0.11780276  0.05280462 -0.02340342]\n",
            " [-0.26699027  0.16536151 -0.48442546  0.15149179]\n",
            " [ 0.06196355  0.20524639  0.15845747 -0.25921017]\n",
            " [ 0.13114516 -0.04961776 -0.01717955  0.24465846]\n",
            " [-0.03061854  0.03615081  0.04059164 -0.31967682]\n",
            " [-0.07399786  0.19370236  0.127366   -0.27795416]\n",
            " [-0.26464355 -0.25114408 -0.24454464  0.20002972]\n",
            " [ 0.0386877  -0.07545298  0.23153056 -0.50461423]\n",
            " [ 0.07040129  0.12432614  0.01970621  0.2986362 ]\n",
            " [-0.1963189  -0.0499565  -0.05497883  0.06828728]\n",
            " [ 0.00201772 -0.0696418   0.17661749  0.39013687]\n",
            " [-0.5190209  -0.49581218 -0.21516076  0.07278129]\n",
            " [ 0.04849932  0.5645696  -0.2117426  -0.14258304]\n",
            " [-0.2461753  -0.21465603 -0.06415062 -0.11891473]\n",
            " [ 0.34675726  0.0336913   0.1834435  -0.29234135]\n",
            " [-0.16469617 -0.11630774 -0.01182317 -0.4145829 ]\n",
            " [-0.74426496 -0.38294968 -0.07720482  0.00274427]\n",
            " [-0.02481755  0.34974304 -0.04449996 -0.16201189]\n",
            " [-0.06286241 -0.19040494  0.07565498 -0.17633529]\n",
            " [ 0.01929095  0.15152109  0.07510671 -0.16178092]\n",
            " [-0.08119147 -0.24897777  0.12635122  0.05678721]\n",
            " [ 0.25228354 -0.01643175 -0.12084446 -0.08759288]\n",
            " [-0.40949103 -0.09055813 -0.00602357  0.17258687]\n",
            " [ 0.19256568 -0.07420617  0.20690003 -0.05640957]\n",
            " [ 0.11389592  0.15162365  0.2957025  -0.675344  ]\n",
            " [ 0.4056496  -0.09837836  0.32278785 -0.05258571]\n",
            " [ 0.20953082  0.1077885  -0.01529955  0.18749012]\n",
            " [-0.10741562  0.07503659  0.31916445 -0.46467072]\n",
            " [-0.07857262 -0.3197586   0.03849712 -0.14318188]\n",
            " [ 0.14116539  0.030136    0.01438051 -0.38767868]\n",
            " [-0.04823325  0.0737952  -0.00668527  0.04914896]\n",
            " [ 0.11096221 -0.01741745  0.24959213 -0.38898912]], shape=(32, 4), dtype=float32)\n"
          ]
        }
      ]
    },
    {
      "cell_type": "code",
      "source": [
        "!pip install finance-datareader"
      ],
      "metadata": {
        "colab": {
          "base_uri": "https://localhost:8080/"
        },
        "id": "CQQWNlYANFeb",
        "outputId": "39fada71-7dc2-48db-daaa-f6740c30d9fa"
      },
      "execution_count": 11,
      "outputs": [
        {
          "output_type": "stream",
          "name": "stdout",
          "text": [
            "Looking in indexes: https://pypi.org/simple, https://us-python.pkg.dev/colab-wheels/public/simple/\n",
            "Collecting finance-datareader\n",
            "  Downloading finance_datareader-0.9.50-py3-none-any.whl (19 kB)\n",
            "Requirement already satisfied: lxml in /usr/local/lib/python3.8/dist-packages (from finance-datareader) (4.9.1)\n",
            "Requirement already satisfied: pandas>=0.19.2 in /usr/local/lib/python3.8/dist-packages (from finance-datareader) (1.3.5)\n",
            "Collecting requests-file\n",
            "  Downloading requests_file-1.5.1-py2.py3-none-any.whl (3.7 kB)\n",
            "Requirement already satisfied: tqdm in /usr/local/lib/python3.8/dist-packages (from finance-datareader) (4.64.1)\n",
            "Requirement already satisfied: requests>=2.3.0 in /usr/local/lib/python3.8/dist-packages (from finance-datareader) (2.23.0)\n",
            "Requirement already satisfied: pytz>=2017.3 in /usr/local/lib/python3.8/dist-packages (from pandas>=0.19.2->finance-datareader) (2022.6)\n",
            "Requirement already satisfied: python-dateutil>=2.7.3 in /usr/local/lib/python3.8/dist-packages (from pandas>=0.19.2->finance-datareader) (2.8.2)\n",
            "Requirement already satisfied: numpy>=1.17.3 in /usr/local/lib/python3.8/dist-packages (from pandas>=0.19.2->finance-datareader) (1.21.6)\n",
            "Requirement already satisfied: six>=1.5 in /usr/local/lib/python3.8/dist-packages (from python-dateutil>=2.7.3->pandas>=0.19.2->finance-datareader) (1.15.0)\n",
            "Requirement already satisfied: idna<3,>=2.5 in /usr/local/lib/python3.8/dist-packages (from requests>=2.3.0->finance-datareader) (2.10)\n",
            "Requirement already satisfied: chardet<4,>=3.0.2 in /usr/local/lib/python3.8/dist-packages (from requests>=2.3.0->finance-datareader) (3.0.4)\n",
            "Requirement already satisfied: urllib3!=1.25.0,!=1.25.1,<1.26,>=1.21.1 in /usr/local/lib/python3.8/dist-packages (from requests>=2.3.0->finance-datareader) (1.24.3)\n",
            "Requirement already satisfied: certifi>=2017.4.17 in /usr/local/lib/python3.8/dist-packages (from requests>=2.3.0->finance-datareader) (2022.9.24)\n",
            "Installing collected packages: requests-file, finance-datareader\n",
            "Successfully installed finance-datareader-0.9.50 requests-file-1.5.1\n"
          ]
        }
      ]
    },
    {
      "cell_type": "code",
      "source": [
        "import FinanceDataReader as fdr\n",
        "import numpy as np\n",
        "import matplotlib.pyplot as plt\n",
        "import pandas as pd"
      ],
      "metadata": {
        "id": "IAWFhcFpMrbL"
      },
      "execution_count": 12,
      "outputs": []
    },
    {
      "cell_type": "code",
      "source": [
        "samsung = fdr.DataReader('005930','2016')\n",
        "print(samsung)"
      ],
      "metadata": {
        "colab": {
          "base_uri": "https://localhost:8080/"
        },
        "id": "mGhzK7q1M068",
        "outputId": "f0fdd66c-7423-466f-e66c-53f0ed2e237c"
      },
      "execution_count": 13,
      "outputs": [
        {
          "output_type": "stream",
          "name": "stdout",
          "text": [
            "             Open   High    Low  Close    Volume    Change\n",
            "Date                                                      \n",
            "2016-01-04  25200  25200  24100  24100    306939 -0.043651\n",
            "2016-01-05  24040  24360  23720  24160    216002  0.002490\n",
            "2016-01-06  24160  24160  23360  23500    366752 -0.027318\n",
            "2016-01-07  23320  23660  23020  23260    282388 -0.010213\n",
            "2016-01-08  23260  23720  23260  23420    257763  0.006879\n",
            "...           ...    ...    ...    ...       ...       ...\n",
            "2022-11-28  60500  60500  59800  60100   8589032 -0.014754\n",
            "2022-11-29  59900  60600  59800  60600   7014160  0.008319\n",
            "2022-11-30  60400  62200  60200  62200  19768903  0.026403\n",
            "2022-12-01  63100  63200  62300  62600  16631445  0.006431\n",
            "2022-12-02  62500  62500  60400  60400  15113978 -0.035144\n",
            "\n",
            "[1702 rows x 6 columns]\n"
          ]
        }
      ]
    },
    {
      "cell_type": "code",
      "source": [
        "openValues = samsung[['Open']]"
      ],
      "metadata": {
        "id": "4E0KAC4wNN6a"
      },
      "execution_count": 14,
      "outputs": []
    },
    {
      "cell_type": "code",
      "source": [
        "from sklearn.preprocessing import MinMaxScaler\n",
        "scaler = MinMaxScaler(feature_range=(0,1))\n",
        "scaled = scaler.fit_transform(openValues)"
      ],
      "metadata": {
        "id": "ahG8VpCxNSfK"
      },
      "execution_count": 15,
      "outputs": []
    },
    {
      "cell_type": "code",
      "source": [
        "TEST_SIZE = 200\n",
        "train_data = scaled[:-TEST_SIZE]\n",
        "test_data = scaled[-TEST_SIZE:]"
      ],
      "metadata": {
        "id": "rg5XXZQSNf1x"
      },
      "execution_count": 16,
      "outputs": []
    },
    {
      "cell_type": "code",
      "source": [
        "def make_sample(data, window):\n",
        "  train = []\n",
        "  target = []\n",
        "  for i in range(len(data)-window):\n",
        "    train.append(data[i:i+window])\n",
        "    target.append(data[i+window])\n",
        "  return np.array(train),np.array(target)\n",
        "\n",
        "X_train,y_train = make_sample(train_data,30)"
      ],
      "metadata": {
        "id": "t9mF4aQ0NnSx"
      },
      "execution_count": 18,
      "outputs": []
    },
    {
      "cell_type": "code",
      "source": [
        "from tensorflow.keras.models import Sequential\n",
        "from tensorflow.keras.layers import Dense\n",
        "from tensorflow.keras.layers import LSTM"
      ],
      "metadata": {
        "id": "Ru4yYnMON6w0"
      },
      "execution_count": 19,
      "outputs": []
    },
    {
      "cell_type": "code",
      "source": [
        "model = Sequential()\n",
        "model.add(LSTM(16,input_shape=(X_train.shape[1],1),\n",
        "               activation='tanh',return_sequences=False))\n",
        "model.add(Dense(1))"
      ],
      "metadata": {
        "id": "EyT7sDESOKow"
      },
      "execution_count": 20,
      "outputs": []
    },
    {
      "cell_type": "code",
      "source": [
        "model.compile(optimizer='adam',loss='mean_squared_error')\n",
        "model.fit(X_train,y_train,epochs=100,batch_size=16)"
      ],
      "metadata": {
        "colab": {
          "base_uri": "https://localhost:8080/"
        },
        "id": "QzAXaoG0OX6H",
        "outputId": "9fec30f5-cff4-4694-e19d-dfc8e719c9e4"
      },
      "execution_count": 21,
      "outputs": [
        {
          "output_type": "stream",
          "name": "stdout",
          "text": [
            "Epoch 1/100\n",
            "92/92 [==============================] - 3s 9ms/step - loss: 0.0640\n",
            "Epoch 2/100\n",
            "92/92 [==============================] - 1s 9ms/step - loss: 0.0020\n",
            "Epoch 3/100\n",
            "92/92 [==============================] - 1s 8ms/step - loss: 0.0013\n",
            "Epoch 4/100\n",
            "92/92 [==============================] - 1s 9ms/step - loss: 0.0012\n",
            "Epoch 5/100\n",
            "92/92 [==============================] - 2s 16ms/step - loss: 0.0012\n",
            "Epoch 6/100\n",
            "92/92 [==============================] - 1s 12ms/step - loss: 0.0012\n",
            "Epoch 7/100\n",
            "92/92 [==============================] - 1s 11ms/step - loss: 0.0012\n",
            "Epoch 8/100\n",
            "92/92 [==============================] - 1s 10ms/step - loss: 0.0012\n",
            "Epoch 9/100\n",
            "92/92 [==============================] - 1s 10ms/step - loss: 0.0012\n",
            "Epoch 10/100\n",
            "92/92 [==============================] - 1s 10ms/step - loss: 0.0012\n",
            "Epoch 11/100\n",
            "92/92 [==============================] - 1s 10ms/step - loss: 0.0011\n",
            "Epoch 12/100\n",
            "92/92 [==============================] - 1s 11ms/step - loss: 0.0011\n",
            "Epoch 13/100\n",
            "92/92 [==============================] - 1s 11ms/step - loss: 0.0011\n",
            "Epoch 14/100\n",
            "92/92 [==============================] - 1s 13ms/step - loss: 0.0011\n",
            "Epoch 15/100\n",
            "92/92 [==============================] - 1s 10ms/step - loss: 0.0012\n",
            "Epoch 16/100\n",
            "92/92 [==============================] - 1s 10ms/step - loss: 0.0011\n",
            "Epoch 17/100\n",
            "92/92 [==============================] - 1s 10ms/step - loss: 0.0010\n",
            "Epoch 18/100\n",
            "92/92 [==============================] - 1s 12ms/step - loss: 0.0010\n",
            "Epoch 19/100\n",
            "92/92 [==============================] - 1s 8ms/step - loss: 0.0010\n",
            "Epoch 20/100\n",
            "92/92 [==============================] - 1s 8ms/step - loss: 0.0011\n",
            "Epoch 21/100\n",
            "92/92 [==============================] - 1s 8ms/step - loss: 0.0010\n",
            "Epoch 22/100\n",
            "92/92 [==============================] - 1s 11ms/step - loss: 0.0010\n",
            "Epoch 23/100\n",
            "92/92 [==============================] - 1s 10ms/step - loss: 9.6904e-04\n",
            "Epoch 24/100\n",
            "92/92 [==============================] - 1s 9ms/step - loss: 9.8097e-04\n",
            "Epoch 25/100\n",
            "92/92 [==============================] - 1s 8ms/step - loss: 0.0010\n",
            "Epoch 26/100\n",
            "92/92 [==============================] - 1s 13ms/step - loss: 9.7070e-04\n",
            "Epoch 27/100\n",
            "92/92 [==============================] - 1s 14ms/step - loss: 9.5781e-04\n",
            "Epoch 28/100\n",
            "92/92 [==============================] - 2s 20ms/step - loss: 9.8484e-04\n",
            "Epoch 29/100\n",
            "92/92 [==============================] - 1s 15ms/step - loss: 9.1597e-04\n",
            "Epoch 30/100\n",
            "92/92 [==============================] - 1s 10ms/step - loss: 9.2486e-04\n",
            "Epoch 31/100\n",
            "92/92 [==============================] - 1s 11ms/step - loss: 8.9333e-04\n",
            "Epoch 32/100\n",
            "92/92 [==============================] - 1s 13ms/step - loss: 9.4302e-04\n",
            "Epoch 33/100\n",
            "92/92 [==============================] - 1s 11ms/step - loss: 8.9982e-04\n",
            "Epoch 34/100\n",
            "92/92 [==============================] - 1s 9ms/step - loss: 8.6954e-04\n",
            "Epoch 35/100\n",
            "92/92 [==============================] - 1s 9ms/step - loss: 8.6517e-04\n",
            "Epoch 36/100\n",
            "92/92 [==============================] - 1s 9ms/step - loss: 8.7835e-04\n",
            "Epoch 37/100\n",
            "92/92 [==============================] - 1s 8ms/step - loss: 9.6236e-04\n",
            "Epoch 38/100\n",
            "92/92 [==============================] - 1s 8ms/step - loss: 8.3212e-04\n",
            "Epoch 39/100\n",
            "92/92 [==============================] - 1s 8ms/step - loss: 8.4220e-04\n",
            "Epoch 40/100\n",
            "92/92 [==============================] - 1s 9ms/step - loss: 8.4803e-04\n",
            "Epoch 41/100\n",
            "92/92 [==============================] - 1s 8ms/step - loss: 7.9850e-04\n",
            "Epoch 42/100\n",
            "92/92 [==============================] - 1s 9ms/step - loss: 8.1221e-04\n",
            "Epoch 43/100\n",
            "92/92 [==============================] - 1s 9ms/step - loss: 8.0394e-04\n",
            "Epoch 44/100\n",
            "92/92 [==============================] - 1s 8ms/step - loss: 8.4365e-04\n",
            "Epoch 45/100\n",
            "92/92 [==============================] - 1s 9ms/step - loss: 8.0851e-04\n",
            "Epoch 46/100\n",
            "92/92 [==============================] - 1s 9ms/step - loss: 8.3253e-04\n",
            "Epoch 47/100\n",
            "92/92 [==============================] - 1s 8ms/step - loss: 7.7827e-04\n",
            "Epoch 48/100\n",
            "92/92 [==============================] - 1s 9ms/step - loss: 7.8447e-04\n",
            "Epoch 49/100\n",
            "92/92 [==============================] - 1s 8ms/step - loss: 7.8356e-04\n",
            "Epoch 50/100\n",
            "92/92 [==============================] - 1s 8ms/step - loss: 8.0426e-04\n",
            "Epoch 51/100\n",
            "92/92 [==============================] - 1s 8ms/step - loss: 7.6943e-04\n",
            "Epoch 52/100\n",
            "92/92 [==============================] - 1s 9ms/step - loss: 7.2317e-04\n",
            "Epoch 53/100\n",
            "92/92 [==============================] - 1s 9ms/step - loss: 7.5165e-04\n",
            "Epoch 54/100\n",
            "92/92 [==============================] - 1s 9ms/step - loss: 7.4925e-04\n",
            "Epoch 55/100\n",
            "92/92 [==============================] - 1s 9ms/step - loss: 7.6484e-04\n",
            "Epoch 56/100\n",
            "92/92 [==============================] - 1s 9ms/step - loss: 7.3122e-04\n",
            "Epoch 57/100\n",
            "92/92 [==============================] - 1s 12ms/step - loss: 7.4039e-04\n",
            "Epoch 58/100\n",
            "92/92 [==============================] - 1s 9ms/step - loss: 7.0881e-04\n",
            "Epoch 59/100\n",
            "92/92 [==============================] - 1s 9ms/step - loss: 7.2103e-04\n",
            "Epoch 60/100\n",
            "92/92 [==============================] - 1s 9ms/step - loss: 6.9769e-04\n",
            "Epoch 61/100\n",
            "92/92 [==============================] - 1s 9ms/step - loss: 7.2537e-04\n",
            "Epoch 62/100\n",
            "92/92 [==============================] - 1s 15ms/step - loss: 6.9538e-04\n",
            "Epoch 63/100\n",
            "92/92 [==============================] - 1s 10ms/step - loss: 7.0072e-04\n",
            "Epoch 64/100\n",
            "92/92 [==============================] - 1s 10ms/step - loss: 6.8253e-04\n",
            "Epoch 65/100\n",
            "92/92 [==============================] - 1s 11ms/step - loss: 6.8227e-04\n",
            "Epoch 66/100\n",
            "92/92 [==============================] - 1s 11ms/step - loss: 6.8521e-04\n",
            "Epoch 67/100\n",
            "92/92 [==============================] - 1s 12ms/step - loss: 6.7166e-04\n",
            "Epoch 68/100\n",
            "92/92 [==============================] - 1s 12ms/step - loss: 6.9384e-04\n",
            "Epoch 69/100\n",
            "92/92 [==============================] - 1s 10ms/step - loss: 6.6873e-04\n",
            "Epoch 70/100\n",
            "92/92 [==============================] - 1s 10ms/step - loss: 6.6263e-04\n",
            "Epoch 71/100\n",
            "92/92 [==============================] - 1s 12ms/step - loss: 6.9788e-04\n",
            "Epoch 72/100\n",
            "92/92 [==============================] - 1s 12ms/step - loss: 6.5220e-04\n",
            "Epoch 73/100\n",
            "92/92 [==============================] - 1s 11ms/step - loss: 6.3819e-04\n",
            "Epoch 74/100\n",
            "92/92 [==============================] - 1s 10ms/step - loss: 6.4455e-04\n",
            "Epoch 75/100\n",
            "92/92 [==============================] - 1s 10ms/step - loss: 6.3292e-04\n",
            "Epoch 76/100\n",
            "92/92 [==============================] - 1s 12ms/step - loss: 6.4908e-04\n",
            "Epoch 77/100\n",
            "92/92 [==============================] - 1s 15ms/step - loss: 6.3623e-04\n",
            "Epoch 78/100\n",
            "92/92 [==============================] - 1s 16ms/step - loss: 6.2165e-04\n",
            "Epoch 79/100\n",
            "92/92 [==============================] - 2s 21ms/step - loss: 6.3050e-04\n",
            "Epoch 80/100\n",
            "92/92 [==============================] - 2s 22ms/step - loss: 6.0473e-04\n",
            "Epoch 81/100\n",
            "92/92 [==============================] - 2s 19ms/step - loss: 6.1190e-04\n",
            "Epoch 82/100\n",
            "92/92 [==============================] - 2s 17ms/step - loss: 6.0376e-04\n",
            "Epoch 83/100\n",
            "92/92 [==============================] - 1s 14ms/step - loss: 6.0122e-04\n",
            "Epoch 84/100\n",
            "92/92 [==============================] - 2s 17ms/step - loss: 6.3430e-04\n",
            "Epoch 85/100\n",
            "92/92 [==============================] - 1s 15ms/step - loss: 6.0228e-04\n",
            "Epoch 86/100\n",
            "92/92 [==============================] - 1s 16ms/step - loss: 6.5373e-04\n",
            "Epoch 87/100\n",
            "92/92 [==============================] - 2s 17ms/step - loss: 6.1818e-04\n",
            "Epoch 88/100\n",
            "92/92 [==============================] - 2s 19ms/step - loss: 6.3623e-04\n",
            "Epoch 89/100\n",
            "92/92 [==============================] - 1s 14ms/step - loss: 5.8731e-04\n",
            "Epoch 90/100\n",
            "92/92 [==============================] - 1s 12ms/step - loss: 5.7874e-04\n",
            "Epoch 91/100\n",
            "92/92 [==============================] - 1s 11ms/step - loss: 5.8302e-04\n",
            "Epoch 92/100\n",
            "92/92 [==============================] - 1s 11ms/step - loss: 5.8687e-04\n",
            "Epoch 93/100\n",
            "92/92 [==============================] - 1s 14ms/step - loss: 5.9508e-04\n",
            "Epoch 94/100\n",
            "92/92 [==============================] - 1s 16ms/step - loss: 5.7972e-04\n",
            "Epoch 95/100\n",
            "92/92 [==============================] - 2s 16ms/step - loss: 5.6444e-04\n",
            "Epoch 96/100\n",
            "92/92 [==============================] - 2s 16ms/step - loss: 5.6321e-04\n",
            "Epoch 97/100\n",
            "92/92 [==============================] - 1s 13ms/step - loss: 5.7193e-04\n",
            "Epoch 98/100\n",
            "92/92 [==============================] - 1s 15ms/step - loss: 5.6010e-04\n",
            "Epoch 99/100\n",
            "92/92 [==============================] - 1s 16ms/step - loss: 5.5565e-04\n",
            "Epoch 100/100\n",
            "92/92 [==============================] - 1s 10ms/step - loss: 5.7141e-04\n"
          ]
        },
        {
          "output_type": "execute_result",
          "data": {
            "text/plain": [
              "<keras.callbacks.History at 0x7f798fd09610>"
            ]
          },
          "metadata": {},
          "execution_count": 21
        }
      ]
    },
    {
      "cell_type": "code",
      "source": [
        "X_test, y_test = make_sample(test_data,30)\n",
        "pred = model.predict(X_test)"
      ],
      "metadata": {
        "colab": {
          "base_uri": "https://localhost:8080/"
        },
        "id": "tvuaY1g3OhZb",
        "outputId": "c6515fdc-6bb9-41bb-b5e6-f401e1f0091f"
      },
      "execution_count": 22,
      "outputs": [
        {
          "output_type": "stream",
          "name": "stdout",
          "text": [
            "6/6 [==============================] - 0s 4ms/step\n"
          ]
        }
      ]
    },
    {
      "cell_type": "code",
      "source": [
        "import matplotlib.pyplot as plt\n",
        "plt.figure(figsize=(12,9))\n",
        "plt.plot(y_test,label='Stock Price')\n",
        "plt.plot(pred,label='Predicted Stock Price')\n",
        "plt.legend()\n",
        "plt.show()"
      ],
      "metadata": {
        "colab": {
          "base_uri": "https://localhost:8080/",
          "height": 537
        },
        "id": "jOZiHKXIOunS",
        "outputId": "a420bce1-251c-4106-e392-2c037bf51064"
      },
      "execution_count": 23,
      "outputs": [
        {
          "output_type": "display_data",
          "data": {
            "text/plain": [
              "<Figure size 864x648 with 1 Axes>"
            ],
            "image/png": "[encoded data removed]"
          },
          "metadata": {
            "needs_background": "light"
          }
        }
      ]
    }
  ]
}