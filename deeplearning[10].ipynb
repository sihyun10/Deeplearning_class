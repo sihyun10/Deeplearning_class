{
  "nbformat": 4,
  "nbformat_minor": 0,
  "metadata": {
    "colab": {
      "provenance": [],
      "authorship_tag": "ABX9TyMhttklAyRFMg0y3R22aQ1X",
      "include_colab_link": true
    },
    "kernelspec": {
      "name": "python3",
      "display_name": "Python 3"
    },
    "language_info": {
      "name": "python"
    }
  },
  "cells": [
    {
      "cell_type": "markdown",
      "metadata": {
        "id": "view-in-github",
        "colab_type": "text"
      },
      "source": [
        "<a href=\"https://colab.research.google.com/github/sihyun10/Deeplearning_class/blob/main/deeplearning%5B10%5D.ipynb\" target=\"_parent\"><img src=\"https://colab.research.google.com/assets/colab-badge.svg\" alt=\"Open In Colab\"/></a>"
      ]
    },
    {
      "cell_type": "code",
      "execution_count": 1,
      "metadata": {
        "id": "0gjMc2_Qcz6j"
      },
      "outputs": [],
      "source": [
        "#CIFAR-10 영상 분류하기\n",
        "#라이브러리와 데이터 셋 불러오기\n",
        "\n",
        "import numpy as np\n",
        "import matplotlib.pyplot as plt\n",
        "import tensorflow as tf\n",
        "from tensorflow import keras\n",
        "from tensorflow.keras import Sequential\n",
        "from tensorflow.keras.layers import *"
      ]
    },
    {
      "cell_type": "code",
      "source": [
        "(X_train, y_train), (X_test, y_test) = keras.datasets.cifar10.load_data()"
      ],
      "metadata": {
        "colab": {
          "base_uri": "https://localhost:8080/"
        },
        "id": "Ozn3S0GydJFS",
        "outputId": "a700f641-72ae-45ce-eaa0-f103492281c9"
      },
      "execution_count": 2,
      "outputs": [
        {
          "output_type": "stream",
          "name": "stdout",
          "text": [
            "Downloading data from https://www.cs.toronto.edu/~kriz/cifar-10-python.tar.gz\n",
            "170498071/170498071 [==============================] - 6s 0us/step\n"
          ]
        }
      ]
    },
    {
      "cell_type": "code",
      "source": [
        "#합성곱 신경망 모델 구성하기\n",
        "\n",
        "#영상의 픽셀 값을 0에서 1 사이로 변환\n",
        "X_train = X_train / 255.0\n",
        "X_test = X_test / 255.0"
      ],
      "metadata": {
        "id": "g68MLVYxdQWR"
      },
      "execution_count": 3,
      "outputs": []
    },
    {
      "cell_type": "code",
      "source": [
        "model = Sequential()\n",
        "model.add(Conv2D(64,activation='relu',kernel_size=(3,3)))\n",
        "model.add(MaxPooling2D(pool_size=(2,2)))\n",
        "model.add(Conv2D(32,activation='relu',kernel_size=(3,3)))\n",
        "model.add(Flatten(input_shape=(32,32,3)))\n",
        "model.add(Dense(80,activation='relu'))\n",
        "model.add(Dense(10,activation='softmax'))"
      ],
      "metadata": {
        "id": "nD6XCHEGdaOw"
      },
      "execution_count": 4,
      "outputs": []
    },
    {
      "cell_type": "code",
      "source": [
        "#합성곱 신경망 모델 컴파일 및 학습하기\n",
        "model.compile(optimizer='adam',loss='sparse_categorical_crossentropy',\n",
        "              metrics = ['accuracy'])\n",
        "history = model.fit(X_train,y_train,epochs=10,verbose=1,validation_split=0.3)"
      ],
      "metadata": {
        "colab": {
          "base_uri": "https://localhost:8080/"
        },
        "id": "ylCpruj1dxQi",
        "outputId": "3c0ae2e9-83e6-4afa-b1c3-d17780c2adb9"
      },
      "execution_count": 5,
      "outputs": [
        {
          "output_type": "stream",
          "name": "stdout",
          "text": [
            "Epoch 1/10\n",
            "1094/1094 [==============================] - 76s 69ms/step - loss: 1.5279 - accuracy: 0.4505 - val_loss: 1.3653 - val_accuracy: 0.5199\n",
            "Epoch 2/10\n",
            "1094/1094 [==============================] - 74s 68ms/step - loss: 1.1735 - accuracy: 0.5861 - val_loss: 1.1389 - val_accuracy: 0.5972\n",
            "Epoch 3/10\n",
            "1094/1094 [==============================] - 73s 66ms/step - loss: 1.0367 - accuracy: 0.6363 - val_loss: 1.0636 - val_accuracy: 0.6302\n",
            "Epoch 4/10\n",
            "1094/1094 [==============================] - 72s 66ms/step - loss: 0.9426 - accuracy: 0.6684 - val_loss: 1.0640 - val_accuracy: 0.6299\n",
            "Epoch 5/10\n",
            "1094/1094 [==============================] - 74s 67ms/step - loss: 0.8627 - accuracy: 0.6979 - val_loss: 1.0504 - val_accuracy: 0.6388\n",
            "Epoch 6/10\n",
            "1094/1094 [==============================] - 73s 66ms/step - loss: 0.7902 - accuracy: 0.7249 - val_loss: 1.0321 - val_accuracy: 0.6484\n",
            "Epoch 7/10\n",
            "1094/1094 [==============================] - 75s 69ms/step - loss: 0.7273 - accuracy: 0.7458 - val_loss: 1.0226 - val_accuracy: 0.6572\n",
            "Epoch 8/10\n",
            "1094/1094 [==============================] - 73s 67ms/step - loss: 0.6644 - accuracy: 0.7674 - val_loss: 1.0646 - val_accuracy: 0.6575\n",
            "Epoch 9/10\n",
            "1094/1094 [==============================] - 75s 69ms/step - loss: 0.5974 - accuracy: 0.7919 - val_loss: 1.1580 - val_accuracy: 0.6392\n",
            "Epoch 10/10\n",
            "1094/1094 [==============================] - 74s 67ms/step - loss: 0.5392 - accuracy: 0.8123 - val_loss: 1.1671 - val_accuracy: 0.6473\n"
          ]
        }
      ]
    },
    {
      "cell_type": "code",
      "source": [
        "#손실값을 그래프로 그려보기\n",
        "plt.plot(history.history['loss'])\n",
        "plt.plot(history.history['val_loss'])\n",
        "plt.title('loss')\n",
        "plt.ylabel('loss')\n",
        "plt.xlabel('epoch')\n",
        "plt.legend(['loss','val_loss'],loc='lower right')\n",
        "plt.show()"
      ],
      "metadata": {
        "colab": {
          "base_uri": "https://localhost:8080/",
          "height": 295
        },
        "id": "WshF7tjmeGcy",
        "outputId": "f010d7b2-7ee2-45cb-809b-03ce0e6bae20"
      },
      "execution_count": 6,
      "outputs": [
        {
          "output_type": "display_data",
          "data": {
            "text/plain": [
              "<Figure size 432x288 with 1 Axes>"
            ],
            "image/png": "[encoded data removed]"
          },
          "metadata": {
            "needs_background": "light"
          }
        }
      ]
    },
    {
      "cell_type": "code",
      "source": [
        "#합성곱 신경망 모델 성능 평가하기\n",
        "plt.figure()\n",
        "plt.imshow(X_test[0])\n",
        "y_pred = model.predict(X_test)\n",
        "print(\"정답=\",y_test[0])\n",
        "print(\"예측값=\",y_pred[0])"
      ],
      "metadata": {
        "colab": {
          "base_uri": "https://localhost:8080/",
          "height": 341
        },
        "id": "2fAlXsg4euF6",
        "outputId": "5f9e90c2-f1dc-47c4-96d8-6ae119003508"
      },
      "execution_count": 7,
      "outputs": [
        {
          "output_type": "stream",
          "name": "stdout",
          "text": [
            "313/313 [==============================] - 5s 15ms/step\n",
            "정답= [3]\n",
            "예측값= [6.7402015e-04 3.6392277e-05 4.1498826e-03 8.0381632e-01 1.1747533e-03\n",
            " 1.4333172e-01 1.3957767e-02 1.8050852e-03 2.7082175e-02 3.9718826e-03]\n"
          ]
        },
        {
          "output_type": "display_data",
          "data": {
            "text/plain": [
              "<Figure size 432x288 with 1 Axes>"
            ],
            "image/png": "[encoded data removed]"
          },
          "metadata": {
            "needs_background": "light"
          }
        }
      ]
    },
    {
      "cell_type": "code",
      "source": [
        "#CNN 모델 성능 개선하기\n",
        "#데이터 증대 : 한정된 데이터에서 여러 가지로 변형된 데이터를 생성하는 기법\n",
        "\n",
        "#라이브러리와 데이터셋 불러오기\n",
        "import tensorflow as tf\n",
        "import matplotlib.pyplot as plot\n",
        "from numpy import expand_dims\n",
        "from tensorflow.keras.preprocessing.image import load_img, img_to_array"
      ],
      "metadata": {
        "id": "bKIygypPfcY0"
      },
      "execution_count": 8,
      "outputs": []
    },
    {
      "cell_type": "code",
      "source": [
        "from google.colab import files\n",
        "uploaded = files.upload()"
      ],
      "metadata": {
        "colab": {
          "base_uri": "https://localhost:8080/",
          "height": 77
        },
        "id": "KXtQ8joBf9Ns",
        "outputId": "d85ffc6a-7f50-438e-e29c-68449d563995"
      },
      "execution_count": 9,
      "outputs": [
        {
          "output_type": "display_data",
          "data": {
            "text/plain": [
              "<IPython.core.display.HTML object>"
            ],
            "text/html": [
              "\n",
              "     <input type=\"file\" id=\"files-28fd7548-f428-40ac-bbf8-1643462677af\" name=\"files[]\" multiple disabled\n",
              "        style=\"border:none\" />\n",
              "     <output id=\"result-28fd7548-f428-40ac-bbf8-1643462677af\">\n",
              "      Upload widget is only available when the cell has been executed in the\n",
              "      current browser session. Please rerun this cell to enable.\n",
              "      </output>\n",
              "      <script>// Copyright 2017 Google LLC\n",
              "//\n",
              "// Licensed under the Apache License, Version 2.0 (the \"License\");\n",
              "// you may not use this file except in compliance with the License.\n",
              "// You may obtain a copy of the License at\n",
              "//\n",
              "//      http://www.apache.org/licenses/LICENSE-2.0\n",
              "//\n",
              "// Unless required by applicable law or agreed to in writing, software\n",
              "// distributed under the License is distributed on an \"AS IS\" BASIS,\n",
              "// WITHOUT WARRANTIES OR CONDITIONS OF ANY KIND, either express or implied.\n",
              "// See the License for the specific language governing permissions and\n",
              "// limitations under the License.\n",
              "\n",
              "/**\n",
              " * @fileoverview Helpers for google.colab Python module.\n",
              " */\n",
              "(function(scope) {\n",
              "function span(text, styleAttributes = {}) {\n",
              "  const element = document.createElement('span');\n",
              "  element.textContent = text;\n",
              "  for (const key of Object.keys(styleAttributes)) {\n",
              "    element.style[key] = styleAttributes[key];\n",
              "  }\n",
              "  return element;\n",
              "}\n",
              "\n",
              "// Max number of bytes which will be uploaded at a time.\n",
              "const MAX_PAYLOAD_SIZE = 100 * 1024;\n",
              "\n",
              "function _uploadFiles(inputId, outputId) {\n",
              "  const steps = uploadFilesStep(inputId, outputId);\n",
              "  const outputElement = document.getElementById(outputId);\n",
              "  // Cache steps on the outputElement to make it available for the next call\n",
              "  // to uploadFilesContinue from Python.\n",
              "  outputElement.steps = steps;\n",
              "\n",
              "  return _uploadFilesContinue(outputId);\n",
              "}\n",
              "\n",
              "// This is roughly an async generator (not supported in the browser yet),\n",
              "// where there are multiple asynchronous steps and the Python side is going\n",
              "// to poll for completion of each step.\n",
              "// This uses a Promise to block the python side on completion of each step,\n",
              "// then passes the result of the previous step as the input to the next step.\n",
              "function _uploadFilesContinue(outputId) {\n",
              "  const outputElement = document.getElementById(outputId);\n",
              "  const steps = outputElement.steps;\n",
              "\n",
              "  const next = steps.next(outputElement.lastPromiseValue);\n",
              "  return Promise.resolve(next.value.promise).then((value) => {\n",
              "    // Cache the last promise value to make it available to the next\n",
              "    // step of the generator.\n",
              "    outputElement.lastPromiseValue = value;\n",
              "    return next.value.response;\n",
              "  });\n",
              "}\n",
              "\n",
              "/**\n",
              " * Generator function which is called between each async step of the upload\n",
              " * process.\n",
              " * @param {string} inputId Element ID of the input file picker element.\n",
              " * @param {string} outputId Element ID of the output display.\n",
              " * @return {!Iterable<!Object>} Iterable of next steps.\n",
              " */\n",
              "function* uploadFilesStep(inputId, outputId) {\n",
              "  const inputElement = document.getElementById(inputId);\n",
              "  inputElement.disabled = false;\n",
              "\n",
              "  const outputElement = document.getElementById(outputId);\n",
              "  outputElement.innerHTML = '';\n",
              "\n",
              "  const pickedPromise = new Promise((resolve) => {\n",
              "    inputElement.addEventListener('change', (e) => {\n",
              "      resolve(e.target.files);\n",
              "    });\n",
              "  });\n",
              "\n",
              "  const cancel = document.createElement('button');\n",
              "  inputElement.parentElement.appendChild(cancel);\n",
              "  cancel.textContent = 'Cancel upload';\n",
              "  const cancelPromise = new Promise((resolve) => {\n",
              "    cancel.onclick = () => {\n",
              "      resolve(null);\n",
              "    };\n",
              "  });\n",
              "\n",
              "  // Wait for the user to pick the files.\n",
              "  const files = yield {\n",
              "    promise: Promise.race([pickedPromise, cancelPromise]),\n",
              "    response: {\n",
              "      action: 'starting',\n",
              "    }\n",
              "  };\n",
              "\n",
              "  cancel.remove();\n",
              "\n",
              "  // Disable the input element since further picks are not allowed.\n",
              "  inputElement.disabled = true;\n",
              "\n",
              "  if (!files) {\n",
              "    return {\n",
              "      response: {\n",
              "        action: 'complete',\n",
              "      }\n",
              "    };\n",
              "  }\n",
              "\n",
              "  for (const file of files) {\n",
              "    const li = document.createElement('li');\n",
              "    li.append(span(file.name, {fontWeight: 'bold'}));\n",
              "    li.append(span(\n",
              "        `(${file.type || 'n/a'}) - ${file.size} bytes, ` +\n",
              "        `last modified: ${\n",
              "            file.lastModifiedDate ? file.lastModifiedDate.toLocaleDateString() :\n",
              "                                    'n/a'} - `));\n",
              "    const percent = span('0% done');\n",
              "    li.appendChild(percent);\n",
              "\n",
              "    outputElement.appendChild(li);\n",
              "\n",
              "    const fileDataPromise = new Promise((resolve) => {\n",
              "      const reader = new FileReader();\n",
              "      reader.onload = (e) => {\n",
              "        resolve(e.target.result);\n",
              "      };\n",
              "      reader.readAsArrayBuffer(file);\n",
              "    });\n",
              "    // Wait for the data to be ready.\n",
              "    let fileData = yield {\n",
              "      promise: fileDataPromise,\n",
              "      response: {\n",
              "        action: 'continue',\n",
              "      }\n",
              "    };\n",
              "\n",
              "    // Use a chunked sending to avoid message size limits. See b/62115660.\n",
              "    let position = 0;\n",
              "    do {\n",
              "      const length = Math.min(fileData.byteLength - position, MAX_PAYLOAD_SIZE);\n",
              "      const chunk = new Uint8Array(fileData, position, length);\n",
              "      position += length;\n",
              "\n",
              "      const base64 = btoa(String.fromCharCode.apply(null, chunk));\n",
              "      yield {\n",
              "        response: {\n",
              "          action: 'append',\n",
              "          file: file.name,\n",
              "          data: base64,\n",
              "        },\n",
              "      };\n",
              "\n",
              "      let percentDone = fileData.byteLength === 0 ?\n",
              "          100 :\n",
              "          Math.round((position / fileData.byteLength) * 100);\n",
              "      percent.textContent = `${percentDone}% done`;\n",
              "\n",
              "    } while (position < fileData.byteLength);\n",
              "  }\n",
              "\n",
              "  // All done.\n",
              "  yield {\n",
              "    response: {\n",
              "      action: 'complete',\n",
              "    }\n",
              "  };\n",
              "}\n",
              "\n",
              "scope.google = scope.google || {};\n",
              "scope.google.colab = scope.google.colab || {};\n",
              "scope.google.colab._files = {\n",
              "  _uploadFiles,\n",
              "  _uploadFilesContinue,\n",
              "};\n",
              "})(self);\n",
              "</script> "
            ]
          },
          "metadata": {}
        },
        {
          "output_type": "stream",
          "name": "stdout",
          "text": [
            "Saving gori.jpg to gori.jpg\n"
          ]
        }
      ]
    },
    {
      "cell_type": "code",
      "source": [
        "image = load_img(\"gori.jpg\")\n",
        "array = img_to_array(image)\n",
        "sample = expand_dims(array,axis=0)"
      ],
      "metadata": {
        "id": "Kxg397O3gDZz"
      },
      "execution_count": 10,
      "outputs": []
    },
    {
      "cell_type": "code",
      "source": [
        "#ImageDataGenerator() 를 이용하여 영상 변형을 정의하기\n",
        "\n",
        "from tensorflow.keras.preprocessing.image import ImageDataGenerator\n",
        "datagen = ImageDataGenerator(rescale=1./255,\n",
        "                             rotation_range=90,brightness_range=[0.8,1.0],\n",
        "                             width_shift_range=0.2, zoom_range=[0.8,1.2],\n",
        "                             height_shift_range = 0.2)"
      ],
      "metadata": {
        "id": "TXhjEe8ohv-k"
      },
      "execution_count": 11,
      "outputs": []
    },
    {
      "cell_type": "code",
      "source": [
        "#데이터 증대\n",
        "#ImageDataGenerator()를 이용하여 영상 변형을 정의하기\n",
        "#ImageDataGenerator로부터 객체 생성하기\n",
        "\n",
        "obj = datagen.flow(sample, batch_size = 1)\n",
        "fig = plt.figure(figsize=(100,20))"
      ],
      "metadata": {
        "colab": {
          "base_uri": "https://localhost:8080/",
          "height": 36
        },
        "id": "RkgpTNd_hz1K",
        "outputId": "87546249-2048-4898-9cf9-2730bbad8058"
      },
      "execution_count": 12,
      "outputs": [
        {
          "output_type": "display_data",
          "data": {
            "text/plain": [
              "<Figure size 7200x1440 with 0 Axes>"
            ]
          },
          "metadata": {}
        }
      ]
    },
    {
      "cell_type": "code",
      "source": [
        "for i in range(8):\n",
        "  plt.subplot(1,8,i+1)\n",
        "  image = obj.next()\n",
        "  plt.imshow(image[0])"
      ],
      "metadata": {
        "colab": {
          "base_uri": "https://localhost:8080/",
          "height": 86
        },
        "id": "a8agvF61iikz",
        "outputId": "acedb0ef-afa2-4735-926b-68984ad2f2ed"
      },
      "execution_count": 13,
      "outputs": [
        {
          "output_type": "display_data",
          "data": {
            "text/plain": [
              "<Figure size 432x288 with 8 Axes>"
            ],
            "image/png": "[encoded data removed]"
          },
          "metadata": {
            "needs_background": "light"
          }
        }
      ]
    },
    {
      "cell_type": "code",
      "source": [
        "#ImageDataGenerator 출력 : Python의 Generator 형식\n",
        "#영상을 생성하는 Generator 객체 생성\n",
        "#Generator : next()가 호출되면 변형된 영상을 하나씩 보내게 됨.\n",
        "\n",
        "#Transfer Learning\n",
        "\n",
        "#가중치 저장과 전이 학습\n",
        "#가중치 저장 : 이미 학습된(Pre-trained) 모델의 가중치를 저장하거나, \n",
        "#              필요할 때마다 가중치를 불러온 신경망을 이용해 예측할 수 있다.\n",
        "#저장 : model.save('mymodel')\n",
        "#저장되는 정보 : 신경망 모델의 아키텍처 및 구성, 신경망 모델의 컴파일 정보, 훈련 중에 학습된 모델의 가중치 값,\n",
        "#저장되는 정보 : Optimizer와 현재 상태(훈련을 중단한 곳에서 다시 시작하기 위한 목적)"
      ],
      "metadata": {
        "id": "XCj7GQTDjE9c"
      },
      "execution_count": null,
      "outputs": []
    },
    {
      "cell_type": "code",
      "source": [
        "#CNN 모델 성능 개선하기\n",
        "#가중치 저장\n",
        "#Pre_trained 모델 구성하기\n",
        "\n",
        "import numpy as np\n",
        "import tensorflow as tf"
      ],
      "metadata": {
        "id": "lnYukEucmlD9"
      },
      "execution_count": 14,
      "outputs": []
    },
    {
      "cell_type": "code",
      "source": [
        "#난수로 훈련 예제 만들기\n",
        "test_input = np.random.random((128,32))\n",
        "test_target = np.random.random((128,1))"
      ],
      "metadata": {
        "id": "tWH7sc_bmxU7"
      },
      "execution_count": 15,
      "outputs": []
    },
    {
      "cell_type": "code",
      "source": [
        "#입력 32, 출력 1 노드인 신경망 모델 구성\n",
        "inputs = tf.keras.Input(shape=(32,))\n",
        "outputs = tf.keras.layers.Dense(1)(inputs)\n",
        "model = tf.keras.Model(inputs,outputs)\n",
        "model.compile(optimizer=\"adam\",loss=\"mean_squared_error\")"
      ],
      "metadata": {
        "id": "CDQa47wEm4Nk"
      },
      "execution_count": 16,
      "outputs": []
    },
    {
      "cell_type": "code",
      "source": [
        "#신경망을 3번 학습\n",
        "model.fit(test_input,test_target,epochs=3)"
      ],
      "metadata": {
        "colab": {
          "base_uri": "https://localhost:8080/"
        },
        "id": "sPc88oupnQRU",
        "outputId": "b41d2c6d-acf3-4e2f-bf10-cedb3a37ed84"
      },
      "execution_count": 17,
      "outputs": [
        {
          "output_type": "stream",
          "name": "stdout",
          "text": [
            "Epoch 1/3\n",
            "4/4 [==============================] - 0s 3ms/step - loss: 0.3979\n",
            "Epoch 2/3\n",
            "4/4 [==============================] - 0s 3ms/step - loss: 0.3450\n",
            "Epoch 3/3\n",
            "4/4 [==============================] - 0s 3ms/step - loss: 0.3043\n"
          ]
        },
        {
          "output_type": "execute_result",
          "data": {
            "text/plain": [
              "<keras.callbacks.History at 0x7f92b2bdc850>"
            ]
          },
          "metadata": {},
          "execution_count": 17
        }
      ]
    },
    {
      "cell_type": "code",
      "source": [
        "#Pre-trained 모델 구성하기\n",
        "\n",
        "#학습한 모델을 저장\n",
        "model.save(\"my_model\")"
      ],
      "metadata": {
        "id": "_n5R65lYnVKs"
      },
      "execution_count": 18,
      "outputs": []
    },
    {
      "cell_type": "code",
      "source": [
        "#저장한 모델 불러오기\n",
        "saved_model=tf.keras.models.load_model(\"my_model\")"
      ],
      "metadata": {
        "id": "GTtB0MzCnf6E"
      },
      "execution_count": 19,
      "outputs": []
    },
    {
      "cell_type": "code",
      "source": [
        "#저장한 모델 다시 학습하기\n",
        "saved_model.fit(test_input, test_target, epochs = 3)"
      ],
      "metadata": {
        "colab": {
          "base_uri": "https://localhost:8080/"
        },
        "id": "JeEnUhlYnlFc",
        "outputId": "337daf7c-ac91-4206-ae24-5b0b05d261af"
      },
      "execution_count": 20,
      "outputs": [
        {
          "output_type": "stream",
          "name": "stdout",
          "text": [
            "Epoch 1/3\n",
            "4/4 [==============================] - 0s 3ms/step - loss: 0.2734\n",
            "Epoch 2/3\n",
            "4/4 [==============================] - 0s 4ms/step - loss: 0.2485\n",
            "Epoch 3/3\n",
            "4/4 [==============================] - 0s 3ms/step - loss: 0.2351\n"
          ]
        },
        {
          "output_type": "execute_result",
          "data": {
            "text/plain": [
              "<keras.callbacks.History at 0x7f92b4f510d0>"
            ]
          },
          "metadata": {},
          "execution_count": 20
        }
      ]
    },
    {
      "cell_type": "code",
      "source": [
        "#전이학습(Transfer Learning)\n",
        "# : 하나의 문제에 관해 학습한 신경망의 모델과 가중치를 새로운 문제에 적용하는 것\n",
        "\n",
        "#keras는 사전 훈련된(Pre-trained) 딥러닝 모델들을 제공\n",
        "#Keras Applications\n",
        "\n",
        "#<전략>\n",
        "#1. 사전 훈련된 모델을 내 프로젝트에 맞게 재정의하기\n",
        "#2. 다른 히든레이어를 내꺼에 사용한다.\n",
        "#3. 잘 학습된 입력데이터를 평가에 넣는다."
      ],
      "metadata": {
        "id": "dByfDV_unooU"
      },
      "execution_count": 21,
      "outputs": []
    },
    {
      "cell_type": "code",
      "source": [
        "#전이 학습 수행하기\n",
        "from tensorflow.keras.applications.resnet50 import ResNet50\n",
        "from tensorflow.keras.preprocessing import image\n",
        "from tensorflow.keras.applications.resnet50 import preprocess_input, decode_predictions\n",
        "import numpy as np"
      ],
      "metadata": {
        "id": "koMtdPqPqMwG"
      },
      "execution_count": 22,
      "outputs": []
    },
    {
      "cell_type": "code",
      "source": [
        "model = ResNet50(weights = 'imagenet')"
      ],
      "metadata": {
        "colab": {
          "base_uri": "https://localhost:8080/"
        },
        "id": "cd62D-kmqji-",
        "outputId": "9ebe81ce-4c57-4dd2-9a4f-04914413c6ec"
      },
      "execution_count": 23,
      "outputs": [
        {
          "output_type": "stream",
          "name": "stdout",
          "text": [
            "Downloading data from https://storage.googleapis.com/tensorflow/keras-applications/resnet/resnet50_weights_tf_dim_ordering_tf_kernels.h5\n",
            "102967424/102967424 [==============================] - 4s 0us/step\n"
          ]
        }
      ]
    },
    {
      "cell_type": "code",
      "source": [
        "img_path = 'gori.jpg'\n",
        "\n",
        "#영상 크기 변경 및 적재\n",
        "img = image.load_img(img_path, target_size = (224,224))"
      ],
      "metadata": {
        "id": "TVaNCWFqqm-F"
      },
      "execution_count": 24,
      "outputs": []
    },
    {
      "cell_type": "code",
      "source": [
        "x = image.img_to_array(img)  #영상을 Numpy 배열로 변환\n",
        "x = np.expand_dims(x,axis=0)  #하나의 차원을 확장(Batch Size 필요)\n",
        "x = preprocess_input(x)  #ResNet50이 요구하는 전처리 수행"
      ],
      "metadata": {
        "id": "_APt7KjnriT-"
      },
      "execution_count": 25,
      "outputs": []
    },
    {
      "cell_type": "code",
      "source": [
        "#전이 학습 수행하기\n",
        "preds = model.predict(x)\n",
        "print(\"예측 :\", decode_predictions(preds,top=3)[0])"
      ],
      "metadata": {
        "colab": {
          "base_uri": "https://localhost:8080/"
        },
        "id": "C18Gnir2r3CH",
        "outputId": "e61ea1ba-504d-4b47-d356-4754644e4c43"
      },
      "execution_count": 26,
      "outputs": [
        {
          "output_type": "stream",
          "name": "stdout",
          "text": [
            "1/1 [==============================] - 3s 3s/step\n",
            "Downloading data from https://storage.googleapis.com/download.tensorflow.org/data/imagenet_class_index.json\n",
            "35363/35363 [==============================] - 0s 0us/step\n",
            "예측 : [('n02123597', 'Siamese_cat', 0.99999917), ('n02443484', 'black-footed_ferret', 2.2624464e-07), ('n02110958', 'pug', 1.2677384e-07)]\n"
          ]
        }
      ]
    }
  ]
}